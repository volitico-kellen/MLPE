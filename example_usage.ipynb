{
 "cells": [
  {
   "cell_type": "code",
   "execution_count": null,
   "id": "2ba964c4",
   "metadata": {},
   "outputs": [],
   "source": [
    "import pandas as pd\n",
    "import mitigate_disparity\n",
    "import measure_disparity\n",
    "import prepare_example_dataset"
   ]
  },
  {
   "cell_type": "code",
   "execution_count": null,
   "id": "eb0dc467",
   "metadata": {
    "scrolled": true
   },
   "outputs": [],
   "source": [
    "# preparing example data csv from Synthea covid data\n",
    "prepare_example_dataset\n",
    "\n",
    "# reading in example data\n",
    "data = pd.read_csv('MLPE_example_dataset.csv')\n",
    "\n",
    "# using first 10k records\n",
    "fit_data = data.iloc[:10000,:].copy()\n",
    "\n",
    "# initiating and fitting mitigate_disparity\n",
    "mlpe = mitigate_disparity.MLPE()\n",
    "mlpe.fit(fit_data, desired_points_in_lattice=5000, r_multiple=1.3)"
   ]
  },
  {
   "cell_type": "code",
   "execution_count": null,
   "id": "f957a9a7",
   "metadata": {},
   "outputs": [],
   "source": [
    "# using the feedback function\n",
    "feedback = mlpe.feedback(level=3, sort_by='lowest', information_source='csv')\n",
    "feedback"
   ]
  },
  {
   "cell_type": "code",
   "execution_count": null,
   "id": "d8110919",
   "metadata": {},
   "outputs": [],
   "source": [
    "# predicting model sensitivity on the remaining patient records\n",
    "\n",
    "# selecting everything after 10k records\n",
    "new_patient_data = data.iloc[10000:,:].copy()\n",
    "\n",
    "print('predicting model sensitivity for',len(new_patient_data),'new patient records')\n",
    "\n",
    "# selecting feature vectors only\n",
    "new_patient_features = new_patient_data.select_dtypes(include=float)\n",
    "\n",
    "# using the predict function\n",
    "predict = mlpe.predict(new_patient_features)\n",
    "predict"
   ]
  },
  {
   "cell_type": "code",
   "execution_count": null,
   "id": "a9317b4a",
   "metadata": {},
   "outputs": [],
   "source": [
    "# using measure disparity\n",
    "\n",
    "# the 5th percentile confidence interval scores on sensitivity are our produced \"model predictions\" of disparity\n",
    "low_ci_scores = predict['low_ci']\n",
    "\n",
    "# selecting just demographic info \n",
    "new_patient_demographics = new_patient_data[['COUNTY','RACE','ETHNICITY','GENDER','AGE_BRACKET']]\n",
    "\n",
    "# initiating measure_disparity with new patient records on which to measure disparity\n",
    "measure = measure_disparity.MeasureDisparityMLPE(new_patient_demographics)\n",
    "\n",
    "# preparing the data with the 5th percentile confidence interval scores\n",
    "measure.prepare_data(low_ci_scores.values)\n",
    "\n",
    "# measure disparity can be done on various \"levels\" of demographic intersection\n",
    "measure.measure_disparity(level=1)"
   ]
  },
  {
   "cell_type": "code",
   "execution_count": null,
   "id": "be82a92c",
   "metadata": {},
   "outputs": [],
   "source": []
  }
 ],
 "metadata": {
  "kernelspec": {
   "display_name": "Python 3 (ipykernel)",
   "language": "python",
   "name": "python3"
  },
  "language_info": {
   "codemirror_mode": {
    "name": "ipython",
    "version": 3
   },
   "file_extension": ".py",
   "mimetype": "text/x-python",
   "name": "python",
   "nbconvert_exporter": "python",
   "pygments_lexer": "ipython3",
   "version": "3.10.9"
  }
 },
 "nbformat": 4,
 "nbformat_minor": 5
}
